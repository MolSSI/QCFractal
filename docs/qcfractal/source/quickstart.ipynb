{
 "cells": [
  {
   "cell_type": "markdown",
   "metadata": {},
   "source": [
    "# Quickstart Tutorial\n",
    "\n",
    "This tutorial will go over general `qcfractal` usage to give a feel for the ecosystem. In this tutorial, we employ Snowflake, a simple QCFractal stack which runs on a local machine for demonstration and exploration purposes.\n",
    "\n",
    "## Installation\n",
    "\n",
    "To begin this quickstart tutorial, first install the QCArchive Snowflake environment from conda:\n",
    "\n",
    "```\n",
    "conda env create qcarchive/qcf-snowflake -n snowflake\n",
    "conda activate snowflake\n",
    "```\n",
    "\n",
    "If you have a pre-existing environment with `qcfractal`, ensure that `rdkit` and `geometric` are installed from the `conda-forge` channel and `psi4` from the `psi4` channel.\n"
   ]
  },
  {
   "cell_type": "markdown",
   "metadata": {},
   "source": [
    "## Importing QCFractal\n",
    "\n",
    "First let us import two items from the ecosystem:\n",
    " * `FractalSnowflakeHandler` - This is a `FractalServer` that is temporary and is used for trying out new things.\n",
    " * `qcfractal.interface` is the `qcportal` module, but if using `qcfractal` it is best to import it locally.\n",
    " \n",
    "Typically we alias `qcportal` as `ptl`. We will do the same for `qcfractal.interface` so that the code can be used anywhere."
   ]
  },
  {
   "cell_type": "code",
   "execution_count": 1,
   "metadata": {},
   "outputs": [],
   "source": [
    "from qcfractal import FractalSnowflakeHandler\n",
    "import qcfractal.interface as ptl"
   ]
  },
  {
   "cell_type": "markdown",
   "metadata": {},
   "source": [
    "We can now build a temporary server which acts just like a normal server, but we have a bit more direct control of it.\n",
    "\n",
    "**Warning!** All data is lost when this notebook shuts down! This is for demonstration purposes only!"
   ]
  },
  {
   "cell_type": "code",
   "execution_count": 2,
   "metadata": {},
   "outputs": [
    {
     "data": {
      "text/html": [
       "\n",
       "<h3>FractalSnowflakeHandler</h3>\n",
       "<ul>\n",
       "  <li><b>Server:   &nbsp; </b>b613fefc-a2bf-49ff-87de-1ee653fa4822</li>\n",
       "  <li><b>Address:  &nbsp; </b>https://localhost:61038</li>\n",
       "</ul>\n"
      ],
      "text/plain": [
       "FractalSnowflakeHandler(name='b613fefc-a2bf-49ff-87de-1ee653fa4822' uri='https://localhost:61038')"
      ]
     },
     "execution_count": 2,
     "metadata": {},
     "output_type": "execute_result"
    }
   ],
   "source": [
    "server = FractalSnowflakeHandler()\n",
    "server"
   ]
  },
  {
   "cell_type": "markdown",
   "metadata": {},
   "source": [
    "We can then build a typical `FractalClient` to automatically connect to this server using the `client()` helper command. Note that the server names and addresses are identical in both the server and client."
   ]
  },
  {
   "cell_type": "code",
   "execution_count": 3,
   "metadata": {},
   "outputs": [
    {
     "data": {
      "text/html": [
       "\n",
       "<h3>FractalClient</h3>\n",
       "<ul>\n",
       "  <li><b>Server:   &nbsp; </b>b613fefc-a2bf-49ff-87de-1ee653fa4822</li>\n",
       "  <li><b>Address:  &nbsp; </b>https://localhost:61038/</li>\n",
       "  <li><b>Username: &nbsp; </b>None</li>\n",
       "</ul>\n"
      ],
      "text/plain": [
       "FractalClient(server_name='b613fefc-a2bf-49ff-87de-1ee653fa4822', address='https://localhost:61038/', username='None')"
      ]
     },
     "execution_count": 3,
     "metadata": {},
     "output_type": "execute_result"
    }
   ],
   "source": [
    "client = server.client()\n",
    "client"
   ]
  },
  {
   "cell_type": "markdown",
   "metadata": {},
   "source": [
    "## Adding and Querying data\n",
    "\n",
    "A server starts with no data, so let's add some! We can do this by adding a water molecule at a poor geometry from XYZ coordinates. Note that all internal QCFractal values are stored and used in atomic units; whereas, the standard `Molecule.from_data` assumes an input of Angstroms. We can switch this back to Bohr by adding a `units` command in the text string. "
   ]
  },
  {
   "cell_type": "code",
   "execution_count": 4,
   "metadata": {},
   "outputs": [
    {
     "data": {
      "application/3dmoljs_load.v0": "<div id=\"3dmolviewer_1558639918655829\"  style=\"position: relative; width: 400px; height: 400px\">\n        <p id=\"3dmolwarning_1558639918655829\" style=\"background-color:#ffcccc;color:black\">You appear to be running in JupyterLab (or JavaScript failed to load for some other reason).  You need to install the 3dmol extension: <br>\n        <tt>jupyter labextension install jupyterlab_3dmol</tt></p>\n        </div>\n<script>\n\nvar loadScriptAsync = function(uri){\n  return new Promise((resolve, reject) => {\n    var tag = document.createElement('script');\n    tag.src = uri;\n    tag.async = true;\n    tag.onload = () => {\n      resolve();\n    };\n  var firstScriptTag = document.getElementsByTagName('script')[0];\n  firstScriptTag.parentNode.insertBefore(tag, firstScriptTag);\n});\n};\n\nif(typeof $3Dmolpromise === 'undefined') {\n$3Dmolpromise = null;\n  $3Dmolpromise = loadScriptAsync('https://3dmol.csb.pitt.edu/build/3Dmol.js');\n}\n\nvar viewer_1558639918655829 = null;\nvar warn = document.getElementById(\"3dmolwarning_1558639918655829\");\nif(warn) {\n    warn.parentNode.removeChild(warn);\n}\n$3Dmolpromise.then(function() {\nviewer_1558639918655829 = $3Dmol.createViewer($(\"#3dmolviewer_1558639918655829\"),{backgroundColor:\"white\"});\n\tviewer_1558639918655829.addModel(\"3\\nH2O\\nO                     0.000000000000     0.000000000000     0.000000000000\\nH                     0.000000000000     0.000000000000     1.058354421340\\nH                     0.000000000000     1.058354421340     0.000000000000\\n\",\"xyz\");\n\tviewer_1558639918655829.setStyle({\"stick\": {\"radius\": 0.2}, \"sphere\": {\"scale\": 0.3}});\n\tviewer_1558639918655829.zoomTo();\nviewer_1558639918655829.render();\n});\n</script>",
      "text/html": [
       "<div id=\"3dmolviewer_1558639918655829\"  style=\"position: relative; width: 400px; height: 400px\">\n",
       "        <p id=\"3dmolwarning_1558639918655829\" style=\"background-color:#ffcccc;color:black\">You appear to be running in JupyterLab (or JavaScript failed to load for some other reason).  You need to install the 3dmol extension: <br>\n",
       "        <tt>jupyter labextension install jupyterlab_3dmol</tt></p>\n",
       "        </div>\n",
       "<script>\n",
       "\n",
       "var loadScriptAsync = function(uri){\n",
       "  return new Promise((resolve, reject) => {\n",
       "    var tag = document.createElement('script');\n",
       "    tag.src = uri;\n",
       "    tag.async = true;\n",
       "    tag.onload = () => {\n",
       "      resolve();\n",
       "    };\n",
       "  var firstScriptTag = document.getElementsByTagName('script')[0];\n",
       "  firstScriptTag.parentNode.insertBefore(tag, firstScriptTag);\n",
       "});\n",
       "};\n",
       "\n",
       "if(typeof $3Dmolpromise === 'undefined') {\n",
       "$3Dmolpromise = null;\n",
       "  $3Dmolpromise = loadScriptAsync('https://3dmol.csb.pitt.edu/build/3Dmol.js');\n",
       "}\n",
       "\n",
       "var viewer_1558639918655829 = null;\n",
       "var warn = document.getElementById(\"3dmolwarning_1558639918655829\");\n",
       "if(warn) {\n",
       "    warn.parentNode.removeChild(warn);\n",
       "}\n",
       "$3Dmolpromise.then(function() {\n",
       "viewer_1558639918655829 = $3Dmol.createViewer($(\"#3dmolviewer_1558639918655829\"),{backgroundColor:\"white\"});\n",
       "\tviewer_1558639918655829.addModel(\"3\\nH2O\\nO                     0.000000000000     0.000000000000     0.000000000000\\nH                     0.000000000000     0.000000000000     1.058354421340\\nH                     0.000000000000     1.058354421340     0.000000000000\\n\",\"xyz\");\n",
       "\tviewer_1558639918655829.setStyle({\"stick\": {\"radius\": 0.2}, \"sphere\": {\"scale\": 0.3}});\n",
       "\tviewer_1558639918655829.zoomTo();\n",
       "viewer_1558639918655829.render();\n",
       "});\n",
       "</script>"
      ]
     },
     "metadata": {},
     "output_type": "display_data"
    },
    {
     "data": {
      "text/plain": [
       "<Molecule(name='H2O' formula='H2O' hash='58e5adb')>"
      ]
     },
     "execution_count": 4,
     "metadata": {},
     "output_type": "execute_result"
    }
   ],
   "source": [
    "mol = ptl.Molecule.from_data(\"\"\"\n",
    "O 0 0 0\n",
    "H 0 0 2\n",
    "H 0 2 0\n",
    "units bohr\n",
    "\"\"\")\n",
    "mol"
   ]
  },
  {
   "cell_type": "markdown",
   "metadata": {},
   "source": [
    "We can then measure various aspects of this molecule to determine its shape. Note that the `measure` command will provide a distance, angle, or dihedral depending if 2, 3, or 4 indices are passed in.\n",
    "\n",
    "This molecule is quite far from optimal, so let's run an geometry optimization!"
   ]
  },
  {
   "cell_type": "code",
   "execution_count": 5,
   "metadata": {},
   "outputs": [
    {
     "name": "stdout",
     "output_type": "stream",
     "text": [
      "2.0\n",
      "90.0\n"
     ]
    }
   ],
   "source": [
    "print(mol.measure([0, 1]))\n",
    "print(mol.measure([1, 0, 2]))"
   ]
  },
  {
   "cell_type": "markdown",
   "metadata": {},
   "source": [
    "## Evaluating a Geometry Optimization\n",
    "\n",
    "We originally installed `psi4` and `geometric`, so we can use these programs to perform a geometry optimization. In QCFractal, we call a geometry optimization a `procedure`, where `procedure` is a generic term for a higher level operation that will run multiple individual quantum chemistry energy, gradient, or Hessian evaluations. Other `procedure` examples are finite-difference computations, n-body computations, and torsiondrives.\n",
    "\n",
    "We provide a JSON-like input to the `client.add_procedure` command to specify the method, basis, and program to be used. The `qc_spec` field is used in all procedures to determine the underlying quantum chemistry method behind the individual procedure. In this way, we can use any program or method that returns a energy or gradient quantity to run our geometry optimization!"
   ]
  },
  {
   "cell_type": "code",
   "execution_count": 6,
   "metadata": {},
   "outputs": [
    {
     "name": "stdout",
     "output_type": "stream",
     "text": [
      "ComputeResponse(nsubmitted=1 nexisting=0)\n",
      "['5ce6f535bf1f5cb8ee9be73f']\n"
     ]
    }
   ],
   "source": [
    "options = {\n",
    "    \"keywords\": None,\n",
    "    \"qc_spec\": {\n",
    "        \"driver\": \"gradient\",\n",
    "        \"method\": \"b3lyp-d3\",\n",
    "        \"basis\": \"6-31g\",\n",
    "        \"program\": \"psi4\"\n",
    "    },\n",
    "}\n",
    "\n",
    "# Ask the server to compute a new computation\n",
    "r = client.add_procedure(\"optimization\", \"geometric\", options, [mol])\n",
    "print(r)\n",
    "print(r.ids)"
   ]
  },
  {
   "cell_type": "markdown",
   "metadata": {},
   "source": [
    "We can see that we submitted a single task to be evaluated and the server has not seen this particular procedure before. The `ids` field returns the unique `id` of the procedure. Different procedures will always have a unique `id`, while identical procedures will always return the same `id`. We can submit the same procedure again to see this effect:"
   ]
  },
  {
   "cell_type": "code",
   "execution_count": 7,
   "metadata": {},
   "outputs": [
    {
     "name": "stdout",
     "output_type": "stream",
     "text": [
      "ComputeResponse(nsubmitted=1 nexisting=0)\n",
      "['5ce6f535bf1f5cb8ee9be73f']\n"
     ]
    }
   ],
   "source": [
    "r2 = client.add_procedure(\"optimization\", \"geometric\", options, [mol])\n",
    "print(r)\n",
    "print(r.ids)"
   ]
  },
  {
   "cell_type": "markdown",
   "metadata": {},
   "source": [
    "## Querying Procedures\n",
    "\n",
    "Once a task is submitted, it will be placed in the compute queue and evaluated. In this particular case the `FractalSnowflakeHandler` uses your local hardware to evaluate these jobs. We recommend avoiding large tasks!\n",
    "\n",
    "In general, the server can handle anywhere between laptop-scale resources to many hundreds of thousands of concurrent cores at many physical locations. The amount of resources to connect is up to you and the amount of compute that you require.\n",
    "\n",
    "Since we did submit a very small job it is likely complete by now. Let us query this procedure from the server using its `id` like so:"
   ]
  },
  {
   "cell_type": "code",
   "execution_count": 9,
   "metadata": {},
   "outputs": [
    {
     "data": {
      "text/plain": [
       "<OptimizationRecord(id='5ce6f535bf1f5cb8ee9be73f' status='COMPLETE')>"
      ]
     },
     "execution_count": 9,
     "metadata": {},
     "output_type": "execute_result"
    }
   ],
   "source": [
    "proc = client.query_procedures(id=r.ids)[0]\n",
    "proc"
   ]
  },
  {
   "cell_type": "markdown",
   "metadata": {},
   "source": [
    "This `OptimizationRecord` object has many different fields attached to it so that all quantities involved in the computation can be explored. For this example, let us pull the final molecule (optimized structure) and inspect the physical dimensions.\n",
    "\n",
    "Note: if the status does not say `COMPLETE`, these fields will not be available. Try querying the procedure again in a few seconds to see if the task completed in the background."
   ]
  },
  {
   "cell_type": "code",
   "execution_count": 10,
   "metadata": {},
   "outputs": [],
   "source": [
    "final_mol = proc.get_final_molecule()"
   ]
  },
  {
   "cell_type": "code",
   "execution_count": 11,
   "metadata": {},
   "outputs": [
    {
     "name": "stdout",
     "output_type": "stream",
     "text": [
      "1.84413039713973\n",
      "108.31440065631584\n"
     ]
    },
    {
     "data": {
      "application/3dmoljs_load.v0": "<div id=\"3dmolviewer_1558639941480753\"  style=\"position: relative; width: 400px; height: 400px\">\n        <p id=\"3dmolwarning_1558639941480753\" style=\"background-color:#ffcccc;color:black\">You appear to be running in JupyterLab (or JavaScript failed to load for some other reason).  You need to install the 3dmol extension: <br>\n        <tt>jupyter labextension install jupyterlab_3dmol</tt></p>\n        </div>\n<script>\n\nvar loadScriptAsync = function(uri){\n  return new Promise((resolve, reject) => {\n    var tag = document.createElement('script');\n    tag.src = uri;\n    tag.async = true;\n    tag.onload = () => {\n      resolve();\n    };\n  var firstScriptTag = document.getElementsByTagName('script')[0];\n  firstScriptTag.parentNode.insertBefore(tag, firstScriptTag);\n});\n};\n\nif(typeof $3Dmolpromise === 'undefined') {\n$3Dmolpromise = null;\n  $3Dmolpromise = loadScriptAsync('https://3dmol.csb.pitt.edu/build/3Dmol.js');\n}\n\nvar viewer_1558639941480753 = null;\nvar warn = document.getElementById(\"3dmolwarning_1558639941480753\");\nif(warn) {\n    warn.parentNode.removeChild(warn);\n}\n$3Dmolpromise.then(function() {\nviewer_1558639941480753 = $3Dmol.createViewer($(\"#3dmolviewer_1558639941480753\"),{backgroundColor:\"white\"});\n\tviewer_1558639941480753.addModel(\"3\\nH2O\\nO                     0.000000000000     0.083968030003     0.083968030003\\nH                     0.000000000000    -0.071335871470     1.047402733833\\nH                     0.000000000000     1.047402733833    -0.071335871470\\n\",\"xyz\");\n\tviewer_1558639941480753.setStyle({\"stick\": {\"radius\": 0.2}, \"sphere\": {\"scale\": 0.3}});\n\tviewer_1558639941480753.zoomTo();\nviewer_1558639941480753.render();\n});\n</script>",
      "text/html": [
       "<div id=\"3dmolviewer_1558639941480753\"  style=\"position: relative; width: 400px; height: 400px\">\n",
       "        <p id=\"3dmolwarning_1558639941480753\" style=\"background-color:#ffcccc;color:black\">You appear to be running in JupyterLab (or JavaScript failed to load for some other reason).  You need to install the 3dmol extension: <br>\n",
       "        <tt>jupyter labextension install jupyterlab_3dmol</tt></p>\n",
       "        </div>\n",
       "<script>\n",
       "\n",
       "var loadScriptAsync = function(uri){\n",
       "  return new Promise((resolve, reject) => {\n",
       "    var tag = document.createElement('script');\n",
       "    tag.src = uri;\n",
       "    tag.async = true;\n",
       "    tag.onload = () => {\n",
       "      resolve();\n",
       "    };\n",
       "  var firstScriptTag = document.getElementsByTagName('script')[0];\n",
       "  firstScriptTag.parentNode.insertBefore(tag, firstScriptTag);\n",
       "});\n",
       "};\n",
       "\n",
       "if(typeof $3Dmolpromise === 'undefined') {\n",
       "$3Dmolpromise = null;\n",
       "  $3Dmolpromise = loadScriptAsync('https://3dmol.csb.pitt.edu/build/3Dmol.js');\n",
       "}\n",
       "\n",
       "var viewer_1558639941480753 = null;\n",
       "var warn = document.getElementById(\"3dmolwarning_1558639941480753\");\n",
       "if(warn) {\n",
       "    warn.parentNode.removeChild(warn);\n",
       "}\n",
       "$3Dmolpromise.then(function() {\n",
       "viewer_1558639941480753 = $3Dmol.createViewer($(\"#3dmolviewer_1558639941480753\"),{backgroundColor:\"white\"});\n",
       "\tviewer_1558639941480753.addModel(\"3\\nH2O\\nO                     0.000000000000     0.083968030003     0.083968030003\\nH                     0.000000000000    -0.071335871470     1.047402733833\\nH                     0.000000000000     1.047402733833    -0.071335871470\\n\",\"xyz\");\n",
       "\tviewer_1558639941480753.setStyle({\"stick\": {\"radius\": 0.2}, \"sphere\": {\"scale\": 0.3}});\n",
       "\tviewer_1558639941480753.zoomTo();\n",
       "viewer_1558639941480753.render();\n",
       "});\n",
       "</script>"
      ]
     },
     "metadata": {},
     "output_type": "display_data"
    },
    {
     "data": {
      "text/plain": [
       "<Molecule(name='H2O' formula='H2O' hash='d30cced')>"
      ]
     },
     "execution_count": 11,
     "metadata": {},
     "output_type": "execute_result"
    }
   ],
   "source": [
    "print(final_mol.measure([0, 1]))\n",
    "print(final_mol.measure([1, 0, 2]))\n",
    "final_mol"
   ]
  },
  {
   "cell_type": "markdown",
   "metadata": {},
   "source": [
    "This water molecule has bond length and angle dimensions much closer to expected values. We can also plot the optimization history to see how each step in the geometry optimization affected the results. Though the chart is not too impressive for this simple molecule, it is hopefully illuminating and is available for any geometry optimization ever completed."
   ]
  },
  {
   "cell_type": "code",
   "execution_count": 12,
   "metadata": {},
   "outputs": [
    {
     "data": {
      "text/html": [
       "<script type=\"text/javascript\">window.PlotlyConfig = {MathJaxConfig: 'local'};</script><script type=\"text/javascript\">if (window.MathJax) {MathJax.Hub.Config({SVG: {font: \"STIX-Web\"}});}</script><script>requirejs.config({paths: { 'plotly': ['https://cdn.plot.ly/plotly-latest.min']},});if(!window._Plotly) {require(['plotly'],function(plotly) {window._Plotly=plotly;});}</script>"
      ],
      "text/vnd.plotly.v1+html": [
       "<script type=\"text/javascript\">window.PlotlyConfig = {MathJaxConfig: 'local'};</script><script type=\"text/javascript\">if (window.MathJax) {MathJax.Hub.Config({SVG: {font: \"STIX-Web\"}});}</script><script>requirejs.config({paths: { 'plotly': ['https://cdn.plot.ly/plotly-latest.min']},});if(!window._Plotly) {require(['plotly'],function(plotly) {window._Plotly=plotly;});}</script>"
      ]
     },
     "metadata": {},
     "output_type": "display_data"
    },
    {
     "data": {
      "application/vnd.plotly.v1+json": {
       "config": {
        "linkText": "Export to plot.ly",
        "plotlyServerURL": "https://plot.ly",
        "showLink": false
       },
       "data": [
        {
         "mode": "lines+markers",
         "type": "scatter",
         "uid": "0c14885a-44cc-45d1-a8c7-6e12b299a822",
         "x": [
          1,
          2,
          3,
          4,
          5,
          6
         ],
         "y": [
          9.191,
          0.52,
          0.123,
          0.001,
          0,
          0
         ]
        }
       ],
       "layout": {
        "title": {
         "text": "Geometry Optimization"
        },
        "xaxis": {
         "range": [
          1,
          6
         ],
         "title": {
          "text": "Optimization Step"
         }
        },
        "yaxis": {
         "title": {
          "text": "Relative Energy [kcal/mol]"
         },
         "zeroline": true
        }
       }
      },
      "text/html": [
       "<div id=\"2f755f1b-e909-4960-8547-8054100d584b\" style=\"height: 525px; width: 100%;\" class=\"plotly-graph-div\"></div><script type=\"text/javascript\">require([\"plotly\"], function(Plotly) { window.PLOTLYENV=window.PLOTLYENV || {};window.PLOTLYENV.BASE_URL=\"https://plot.ly\";\n",
       "if (document.getElementById(\"2f755f1b-e909-4960-8547-8054100d584b\")) {\n",
       "    Plotly.newPlot(\"2f755f1b-e909-4960-8547-8054100d584b\", [{\"mode\": \"lines+markers\", \"x\": [1, 2, 3, 4, 5, 6], \"y\": [9.191, 0.52, 0.123, 0.001, 0.0, 0.0], \"type\": \"scatter\", \"uid\": \"0c14885a-44cc-45d1-a8c7-6e12b299a822\"}], {\"title\": {\"text\": \"Geometry Optimization\"}, \"xaxis\": {\"range\": [1, 6], \"title\": {\"text\": \"Optimization Step\"}}, \"yaxis\": {\"title\": {\"text\": \"Relative Energy [kcal/mol]\"}, \"zeroline\": true}}, {\"showLink\": false, \"linkText\": \"Export to plot.ly\", \"plotlyServerURL\": \"https://plot.ly\"}); \n",
       "}\n",
       "});</script><script type=\"text/javascript\">window.addEventListener(\"resize\", function(){if (document.getElementById(\"2f755f1b-e909-4960-8547-8054100d584b\")) {window._Plotly.Plots.resize(document.getElementById(\"2f755f1b-e909-4960-8547-8054100d584b\"));};})</script>"
      ],
      "text/vnd.plotly.v1+html": [
       "<div id=\"2f755f1b-e909-4960-8547-8054100d584b\" style=\"height: 525px; width: 100%;\" class=\"plotly-graph-div\"></div><script type=\"text/javascript\">require([\"plotly\"], function(Plotly) { window.PLOTLYENV=window.PLOTLYENV || {};window.PLOTLYENV.BASE_URL=\"https://plot.ly\";\n",
       "if (document.getElementById(\"2f755f1b-e909-4960-8547-8054100d584b\")) {\n",
       "    Plotly.newPlot(\"2f755f1b-e909-4960-8547-8054100d584b\", [{\"mode\": \"lines+markers\", \"x\": [1, 2, 3, 4, 5, 6], \"y\": [9.191, 0.52, 0.123, 0.001, 0.0, 0.0], \"type\": \"scatter\", \"uid\": \"0c14885a-44cc-45d1-a8c7-6e12b299a822\"}], {\"title\": {\"text\": \"Geometry Optimization\"}, \"xaxis\": {\"range\": [1, 6], \"title\": {\"text\": \"Optimization Step\"}}, \"yaxis\": {\"title\": {\"text\": \"Relative Energy [kcal/mol]\"}, \"zeroline\": true}}, {\"showLink\": false, \"linkText\": \"Export to plot.ly\", \"plotlyServerURL\": \"https://plot.ly\"}); \n",
       "}\n",
       "});</script><script type=\"text/javascript\">window.addEventListener(\"resize\", function(){if (document.getElementById(\"2f755f1b-e909-4960-8547-8054100d584b\")) {window._Plotly.Plots.resize(document.getElementById(\"2f755f1b-e909-4960-8547-8054100d584b\"));};})</script>"
      ]
     },
     "metadata": {},
     "output_type": "display_data"
    }
   ],
   "source": [
    "proc.show_history()"
   ]
  },
  {
   "cell_type": "markdown",
   "metadata": {},
   "source": [
    "## Collections\n",
    "\n",
    "Submitting individual procedures or single quantum chemistry tasks is not typically done as it becomes hard to track individual ``Tasks``. To help resolve this, ``Collections`` are different ways of organizing standard computations so that many tasks can be referenced in a more human-friendly way. In this particular case, we will be exploring an intermolecular potential dataset.\n",
    "\n",
    "To begin, we will create a new dataset and add a few intermolecular interactions to it."
   ]
  },
  {
   "cell_type": "code",
   "execution_count": 13,
   "metadata": {},
   "outputs": [],
   "source": [
    "ds = ptl.collections.ReactionDataset(\"My IE Dataset\", ds_type=\"ie\", client=client, default_program=\"psi4\")"
   ]
  },
  {
   "cell_type": "markdown",
   "metadata": {},
   "source": [
    "We can construct a water dimer that has fragments used in the intermolecular computation with the `--` divider. A single water molecule with ghost atoms can be extracted like so:"
   ]
  },
  {
   "cell_type": "code",
   "execution_count": 14,
   "metadata": {},
   "outputs": [
    {
     "data": {
      "application/3dmoljs_load.v0": "<div id=\"3dmolviewer_1558639952048397\"  style=\"position: relative; width: 400px; height: 400px\">\n        <p id=\"3dmolwarning_1558639952048397\" style=\"background-color:#ffcccc;color:black\">You appear to be running in JupyterLab (or JavaScript failed to load for some other reason).  You need to install the 3dmol extension: <br>\n        <tt>jupyter labextension install jupyterlab_3dmol</tt></p>\n        </div>\n<script>\n\nvar loadScriptAsync = function(uri){\n  return new Promise((resolve, reject) => {\n    var tag = document.createElement('script');\n    tag.src = uri;\n    tag.async = true;\n    tag.onload = () => {\n      resolve();\n    };\n  var firstScriptTag = document.getElementsByTagName('script')[0];\n  firstScriptTag.parentNode.insertBefore(tag, firstScriptTag);\n});\n};\n\nif(typeof $3Dmolpromise === 'undefined') {\n$3Dmolpromise = null;\n  $3Dmolpromise = loadScriptAsync('https://3dmol.csb.pitt.edu/build/3Dmol.js');\n}\n\nvar viewer_1558639952048397 = null;\nvar warn = document.getElementById(\"3dmolwarning_1558639952048397\");\nif(warn) {\n    warn.parentNode.removeChild(warn);\n}\n$3Dmolpromise.then(function() {\nviewer_1558639952048397 = $3Dmol.createViewer($(\"#3dmolviewer_1558639952048397\"),{backgroundColor:\"white\"});\n\tviewer_1558639952048397.addModel(\"6\\nH4O2 ([0],[1])\\nO                     0.000000000000     0.000000000000     0.000000000000\\nH                     0.758602000940     0.000000000000     0.504284000291\\nH                     0.260455001055     0.000000000000    -0.872893001678\\n@O                    3.000000001919     0.499999998556     0.000000000000\\n@H                    3.758601997567     0.499999998556     0.504284000291\\n@H                    3.260454997682     0.499999998556    -0.872893001678\\n\",\"xyz\");\n\tviewer_1558639952048397.setStyle({\"stick\": {\"radius\": 0.2}, \"sphere\": {\"scale\": 0.3}});\n\tviewer_1558639952048397.zoomTo();\nviewer_1558639952048397.render();\n});\n</script>",
      "text/html": [
       "<div id=\"3dmolviewer_1558639952048397\"  style=\"position: relative; width: 400px; height: 400px\">\n",
       "        <p id=\"3dmolwarning_1558639952048397\" style=\"background-color:#ffcccc;color:black\">You appear to be running in JupyterLab (or JavaScript failed to load for some other reason).  You need to install the 3dmol extension: <br>\n",
       "        <tt>jupyter labextension install jupyterlab_3dmol</tt></p>\n",
       "        </div>\n",
       "<script>\n",
       "\n",
       "var loadScriptAsync = function(uri){\n",
       "  return new Promise((resolve, reject) => {\n",
       "    var tag = document.createElement('script');\n",
       "    tag.src = uri;\n",
       "    tag.async = true;\n",
       "    tag.onload = () => {\n",
       "      resolve();\n",
       "    };\n",
       "  var firstScriptTag = document.getElementsByTagName('script')[0];\n",
       "  firstScriptTag.parentNode.insertBefore(tag, firstScriptTag);\n",
       "});\n",
       "};\n",
       "\n",
       "if(typeof $3Dmolpromise === 'undefined') {\n",
       "$3Dmolpromise = null;\n",
       "  $3Dmolpromise = loadScriptAsync('https://3dmol.csb.pitt.edu/build/3Dmol.js');\n",
       "}\n",
       "\n",
       "var viewer_1558639952048397 = null;\n",
       "var warn = document.getElementById(\"3dmolwarning_1558639952048397\");\n",
       "if(warn) {\n",
       "    warn.parentNode.removeChild(warn);\n",
       "}\n",
       "$3Dmolpromise.then(function() {\n",
       "viewer_1558639952048397 = $3Dmol.createViewer($(\"#3dmolviewer_1558639952048397\"),{backgroundColor:\"white\"});\n",
       "\tviewer_1558639952048397.addModel(\"6\\nH4O2 ([0],[1])\\nO                     0.000000000000     0.000000000000     0.000000000000\\nH                     0.758602000940     0.000000000000     0.504284000291\\nH                     0.260455001055     0.000000000000    -0.872893001678\\n@O                    3.000000001919     0.499999998556     0.000000000000\\n@H                    3.758601997567     0.499999998556     0.504284000291\\n@H                    3.260454997682     0.499999998556    -0.872893001678\\n\",\"xyz\");\n",
       "\tviewer_1558639952048397.setStyle({\"stick\": {\"radius\": 0.2}, \"sphere\": {\"scale\": 0.3}});\n",
       "\tviewer_1558639952048397.zoomTo();\n",
       "viewer_1558639952048397.render();\n",
       "});\n",
       "</script>"
      ]
     },
     "metadata": {},
     "output_type": "display_data"
    },
    {
     "data": {
      "text/plain": [
       "<Molecule(name='H4O2 ([0],[1])' formula='H4O2' hash='8248da9')>"
      ]
     },
     "execution_count": 14,
     "metadata": {},
     "output_type": "execute_result"
    }
   ],
   "source": [
    "water_dimer = ptl.Molecule.from_data(\"\"\"\n",
    "O 0.000000 0.000000  0.000000\n",
    "H 0.758602 0.000000  0.504284\n",
    "H 0.260455 0.000000 -0.872893\n",
    "--\n",
    "O 3.000000 0.500000  0.000000\n",
    "H 3.758602 0.500000  0.504284\n",
    "H 3.260455 0.500000 -0.872893\n",
    "\"\"\")\n",
    "\n",
    "water_dimer.get_fragment(0, 1)"
   ]
  },
  {
   "cell_type": "markdown",
   "metadata": {},
   "source": [
    "Many molecular entries can be added to this dataset where each is entry is a given intermolecular complex that is given a unique name. In addition, the `add_ie_rxn` method to can automatically fragment molecules. "
   ]
  },
  {
   "cell_type": "code",
   "execution_count": 15,
   "metadata": {},
   "outputs": [
    {
     "data": {
      "text/plain": [
       "<ReactionRecord attributes={} reaction_results={'default': {}} name='helium dimer' stoichiometry={'default1': {'b3855c64e9f61158f5e449e2df7b79bf1fa599d7': 2.0}, 'cp1': {'e925ae…>"
      ]
     },
     "execution_count": 15,
     "metadata": {},
     "output_type": "execute_result"
    }
   ],
   "source": [
    "ds.add_ie_rxn(\"water dimer\", water_dimer)\n",
    "ds.add_ie_rxn(\"helium dimer\", \"\"\"\n",
    "He 0 0 -3\n",
    "--\n",
    "He 0 0 3\n",
    "\"\"\")"
   ]
  },
  {
   "cell_type": "markdown",
   "metadata": {},
   "source": [
    "Once the Collection is created it can be saved to the server so that it can always be retrived at a future date"
   ]
  },
  {
   "cell_type": "code",
   "execution_count": 16,
   "metadata": {},
   "outputs": [
    {
     "data": {
      "text/plain": [
       "'5ce6f5569642c78298678a32'"
      ]
     },
     "execution_count": 16,
     "metadata": {},
     "output_type": "execute_result"
    }
   ],
   "source": [
    "ds.save()"
   ]
  },
  {
   "cell_type": "markdown",
   "metadata": {},
   "source": [
    "The client can list all Collections currently on the server and retrive collections to be manipulated:"
   ]
  },
  {
   "cell_type": "code",
   "execution_count": 17,
   "metadata": {},
   "outputs": [
    {
     "data": {
      "text/html": [
       "<div>\n",
       "<style scoped>\n",
       "    .dataframe tbody tr th:only-of-type {\n",
       "        vertical-align: middle;\n",
       "    }\n",
       "\n",
       "    .dataframe tbody tr th {\n",
       "        vertical-align: top;\n",
       "    }\n",
       "\n",
       "    .dataframe thead th {\n",
       "        text-align: right;\n",
       "    }\n",
       "</style>\n",
       "<table border=\"1\" class=\"dataframe\">\n",
       "  <thead>\n",
       "    <tr style=\"text-align: right;\">\n",
       "      <th></th>\n",
       "      <th></th>\n",
       "      <th>id</th>\n",
       "      <th>tagline</th>\n",
       "    </tr>\n",
       "    <tr>\n",
       "      <th>collection</th>\n",
       "      <th>name</th>\n",
       "      <th></th>\n",
       "      <th></th>\n",
       "    </tr>\n",
       "  </thead>\n",
       "  <tbody>\n",
       "    <tr>\n",
       "      <th>ReactionDataset</th>\n",
       "      <th>My IE Dataset</th>\n",
       "      <td>5ce6f5569642c78298678a32</td>\n",
       "      <td>None</td>\n",
       "    </tr>\n",
       "  </tbody>\n",
       "</table>\n",
       "</div>"
      ],
      "text/plain": [
       "                                                     id tagline\n",
       "collection      name                                           \n",
       "ReactionDataset My IE Dataset  5ce6f5569642c78298678a32    None"
      ]
     },
     "execution_count": 17,
     "metadata": {},
     "output_type": "execute_result"
    }
   ],
   "source": [
    "client.list_collections()"
   ]
  },
  {
   "cell_type": "code",
   "execution_count": 18,
   "metadata": {},
   "outputs": [],
   "source": [
    "ds = client.get_collection(\"ReactionDataset\", \"My IE Dataset\")"
   ]
  },
  {
   "cell_type": "markdown",
   "metadata": {},
   "source": [
    "## Computing with collections\n",
    "\n",
    "Computational methods can be applied to all of the reactions in the dataset with just a few simple lines:"
   ]
  },
  {
   "cell_type": "code",
   "execution_count": 19,
   "metadata": {},
   "outputs": [
    {
     "data": {
      "text/plain": [
       "<ComputeResponse(nsubmitted=10 nexisting=0)>"
      ]
     },
     "execution_count": 19,
     "metadata": {},
     "output_type": "execute_result"
    }
   ],
   "source": [
    "ds.compute(\"B3LYP-D3\", \"def2-SVP\")"
   ]
  },
  {
   "cell_type": "markdown",
   "metadata": {},
   "source": [
    "By default this collection evaluates the non-counterpoise corrected interaction energy which typically requires three computations per entry (the complex and each monomer). In this case we compute the B3LYP and -D3 additive correction separately, nominally 12 total computations. However the collection is smart enough to understand that each Helium monomer is identical and does not need to be computed twice, reducing the total number of computations to 10 as shown here. We can continue to compute additional methods. Again, this is being evaluated on your computer! Be careful of the compute requirements."
   ]
  },
  {
   "cell_type": "code",
   "execution_count": 20,
   "metadata": {},
   "outputs": [
    {
     "data": {
      "text/plain": [
       "<ComputeResponse(nsubmitted=10 nexisting=0)>"
      ]
     },
     "execution_count": 20,
     "metadata": {},
     "output_type": "execute_result"
    }
   ],
   "source": [
    "ds.compute(\"PBE-D3\", \"def2-SVP\")"
   ]
  },
  {
   "cell_type": "markdown",
   "metadata": {},
   "source": [
    "A list of all methods that have been computed for this dataset can also be shown:"
   ]
  },
  {
   "cell_type": "code",
   "execution_count": 21,
   "metadata": {},
   "outputs": [
    {
     "data": {
      "text/html": [
       "<div>\n",
       "<style scoped>\n",
       "    .dataframe tbody tr th:only-of-type {\n",
       "        vertical-align: middle;\n",
       "    }\n",
       "\n",
       "    .dataframe tbody tr th {\n",
       "        vertical-align: top;\n",
       "    }\n",
       "\n",
       "    .dataframe thead th {\n",
       "        text-align: right;\n",
       "    }\n",
       "</style>\n",
       "<table border=\"1\" class=\"dataframe\">\n",
       "  <thead>\n",
       "    <tr style=\"text-align: right;\">\n",
       "      <th></th>\n",
       "      <th></th>\n",
       "      <th></th>\n",
       "      <th></th>\n",
       "      <th></th>\n",
       "      <th>stoichiometry</th>\n",
       "    </tr>\n",
       "    <tr>\n",
       "      <th>driver</th>\n",
       "      <th>program</th>\n",
       "      <th>method</th>\n",
       "      <th>basis</th>\n",
       "      <th>keywords</th>\n",
       "      <th></th>\n",
       "    </tr>\n",
       "  </thead>\n",
       "  <tbody>\n",
       "    <tr>\n",
       "      <th rowspan=\"4\" valign=\"top\">energy</th>\n",
       "      <th rowspan=\"4\" valign=\"top\">psi4</th>\n",
       "      <th>b3lyp</th>\n",
       "      <th>def2-svp</th>\n",
       "      <th>None</th>\n",
       "      <td>default</td>\n",
       "    </tr>\n",
       "    <tr>\n",
       "      <th>b3lyp-d3</th>\n",
       "      <th>def2-svp</th>\n",
       "      <th>None</th>\n",
       "      <td>default</td>\n",
       "    </tr>\n",
       "    <tr>\n",
       "      <th>pbe</th>\n",
       "      <th>def2-svp</th>\n",
       "      <th>None</th>\n",
       "      <td>default</td>\n",
       "    </tr>\n",
       "    <tr>\n",
       "      <th>pbe-d3</th>\n",
       "      <th>def2-svp</th>\n",
       "      <th>None</th>\n",
       "      <td>default</td>\n",
       "    </tr>\n",
       "  </tbody>\n",
       "</table>\n",
       "</div>"
      ],
      "text/plain": [
       "                                          stoichiometry\n",
       "driver program method   basis    keywords              \n",
       "energy psi4    b3lyp    def2-svp None           default\n",
       "               b3lyp-d3 def2-svp None           default\n",
       "               pbe      def2-svp None           default\n",
       "               pbe-d3   def2-svp None           default"
      ]
     },
     "execution_count": 21,
     "metadata": {},
     "output_type": "execute_result"
    }
   ],
   "source": [
    "ds.list_history()"
   ]
  },
  {
   "cell_type": "markdown",
   "metadata": {},
   "source": [
    "The above only shows what has been computed and does not pull this data from the server to your computer. To do so, the `get_history` command can be used:"
   ]
  },
  {
   "cell_type": "code",
   "execution_count": 22,
   "metadata": {},
   "outputs": [
    {
     "data": {
      "text/html": [
       "<div>\n",
       "<style scoped>\n",
       "    .dataframe tbody tr th:only-of-type {\n",
       "        vertical-align: middle;\n",
       "    }\n",
       "\n",
       "    .dataframe tbody tr th {\n",
       "        vertical-align: top;\n",
       "    }\n",
       "\n",
       "    .dataframe thead th {\n",
       "        text-align: right;\n",
       "    }\n",
       "</style>\n",
       "<table border=\"1\" class=\"dataframe\">\n",
       "  <thead>\n",
       "    <tr style=\"text-align: right;\">\n",
       "      <th></th>\n",
       "      <th>driver</th>\n",
       "      <th>program</th>\n",
       "      <th>method</th>\n",
       "      <th>basis</th>\n",
       "      <th>keywords</th>\n",
       "      <th>stoichiometry</th>\n",
       "      <th>name</th>\n",
       "    </tr>\n",
       "  </thead>\n",
       "  <tbody>\n",
       "    <tr>\n",
       "      <th>0</th>\n",
       "      <td>energy</td>\n",
       "      <td>psi4</td>\n",
       "      <td>b3lyp</td>\n",
       "      <td>def2-svp</td>\n",
       "      <td>NaN</td>\n",
       "      <td>default</td>\n",
       "      <td>B3LYP/def2-svp</td>\n",
       "    </tr>\n",
       "    <tr>\n",
       "      <th>1</th>\n",
       "      <td>energy</td>\n",
       "      <td>psi4</td>\n",
       "      <td>b3lyp-d3</td>\n",
       "      <td>def2-svp</td>\n",
       "      <td>NaN</td>\n",
       "      <td>default</td>\n",
       "      <td>B3LYP-D3/def2-svp</td>\n",
       "    </tr>\n",
       "    <tr>\n",
       "      <th>2</th>\n",
       "      <td>energy</td>\n",
       "      <td>psi4</td>\n",
       "      <td>pbe</td>\n",
       "      <td>def2-svp</td>\n",
       "      <td>NaN</td>\n",
       "      <td>default</td>\n",
       "      <td>PBE/def2-svp</td>\n",
       "    </tr>\n",
       "    <tr>\n",
       "      <th>3</th>\n",
       "      <td>energy</td>\n",
       "      <td>psi4</td>\n",
       "      <td>pbe-d3</td>\n",
       "      <td>def2-svp</td>\n",
       "      <td>NaN</td>\n",
       "      <td>default</td>\n",
       "      <td>PBE-D3/def2-svp</td>\n",
       "    </tr>\n",
       "  </tbody>\n",
       "</table>\n",
       "</div>"
      ],
      "text/plain": [
       "   driver program    method     basis  keywords stoichiometry  \\\n",
       "0  energy    psi4     b3lyp  def2-svp       NaN       default   \n",
       "1  energy    psi4  b3lyp-d3  def2-svp       NaN       default   \n",
       "2  energy    psi4       pbe  def2-svp       NaN       default   \n",
       "3  energy    psi4    pbe-d3  def2-svp       NaN       default   \n",
       "\n",
       "                name  \n",
       "0     B3LYP/def2-svp  \n",
       "1  B3LYP-D3/def2-svp  \n",
       "2       PBE/def2-svp  \n",
       "3    PBE-D3/def2-svp  "
      ]
     },
     "execution_count": 22,
     "metadata": {},
     "output_type": "execute_result"
    }
   ],
   "source": [
    "ds.get_history()"
   ]
  },
  {
   "cell_type": "markdown",
   "metadata": {},
   "source": [
    "Underlying the Collection is a pandas DataFrame which can show all results:"
   ]
  },
  {
   "cell_type": "code",
   "execution_count": 23,
   "metadata": {},
   "outputs": [
    {
     "name": "stdout",
     "output_type": "stream",
     "text": [
      "DataFrame units: kcal / mol\n"
     ]
    },
    {
     "data": {
      "text/html": [
       "<div>\n",
       "<style scoped>\n",
       "    .dataframe tbody tr th:only-of-type {\n",
       "        vertical-align: middle;\n",
       "    }\n",
       "\n",
       "    .dataframe tbody tr th {\n",
       "        vertical-align: top;\n",
       "    }\n",
       "\n",
       "    .dataframe thead th {\n",
       "        text-align: right;\n",
       "    }\n",
       "</style>\n",
       "<table border=\"1\" class=\"dataframe\">\n",
       "  <thead>\n",
       "    <tr style=\"text-align: right;\">\n",
       "      <th></th>\n",
       "      <th>B3LYP/def2-svp</th>\n",
       "      <th>B3LYP-D3/def2-svp</th>\n",
       "      <th>PBE/def2-svp</th>\n",
       "      <th>PBE-D3/def2-svp</th>\n",
       "    </tr>\n",
       "  </thead>\n",
       "  <tbody>\n",
       "    <tr>\n",
       "      <th>water dimer</th>\n",
       "      <td>-4.751916</td>\n",
       "      <td>-5.577718</td>\n",
       "      <td>-5.115871</td>\n",
       "      <td>-5.632224</td>\n",
       "    </tr>\n",
       "    <tr>\n",
       "      <th>helium dimer</th>\n",
       "      <td>-0.000346</td>\n",
       "      <td>-0.000848</td>\n",
       "      <td>-0.000387</td>\n",
       "      <td>-0.000864</td>\n",
       "    </tr>\n",
       "  </tbody>\n",
       "</table>\n",
       "</div>"
      ],
      "text/plain": [
       "              B3LYP/def2-svp  B3LYP-D3/def2-svp  PBE/def2-svp  PBE-D3/def2-svp\n",
       "water dimer        -4.751916          -5.577718     -5.115871        -5.632224\n",
       "helium dimer       -0.000346          -0.000848     -0.000387        -0.000864"
      ]
     },
     "execution_count": 23,
     "metadata": {},
     "output_type": "execute_result"
    }
   ],
   "source": [
    "print(f\"DataFrame units: {ds.units}\")\n",
    "ds.df"
   ]
  },
  {
   "cell_type": "markdown",
   "metadata": {},
   "source": [
    "You can also visualize results and more!"
   ]
  },
  {
   "cell_type": "code",
   "execution_count": 24,
   "metadata": {},
   "outputs": [
    {
     "data": {
      "text/html": [
       "<script type=\"text/javascript\">window.PlotlyConfig = {MathJaxConfig: 'local'};</script><script type=\"text/javascript\">if (window.MathJax) {MathJax.Hub.Config({SVG: {font: \"STIX-Web\"}});}</script><script>requirejs.config({paths: { 'plotly': ['https://cdn.plot.ly/plotly-latest.min']},});if(!window._Plotly) {require(['plotly'],function(plotly) {window._Plotly=plotly;});}</script>"
      ],
      "text/vnd.plotly.v1+html": [
       "<script type=\"text/javascript\">window.PlotlyConfig = {MathJaxConfig: 'local'};</script><script type=\"text/javascript\">if (window.MathJax) {MathJax.Hub.Config({SVG: {font: \"STIX-Web\"}});}</script><script>requirejs.config({paths: { 'plotly': ['https://cdn.plot.ly/plotly-latest.min']},});if(!window._Plotly) {require(['plotly'],function(plotly) {window._Plotly=plotly;});}</script>"
      ]
     },
     "metadata": {},
     "output_type": "display_data"
    },
    {
     "data": {
      "application/vnd.plotly.v1+json": {
       "config": {
        "linkText": "Export to plot.ly",
        "plotlyServerURL": "https://plot.ly",
        "showLink": false
       },
       "data": [
        {
         "box": {
          "visible": true
         },
         "name": "B3LYP-D3/def2-svp-nan",
         "type": "violin",
         "uid": "8c922021-70ad-411c-b465-855135b4a09c",
         "y": [
          0.001,
          0.826
         ]
        },
        {
         "box": {
          "visible": true
         },
         "name": "PBE-D3/def2-svp-nan",
         "type": "violin",
         "uid": "2294c9ee-6051-43aa-bf56-d03758fb7683",
         "y": [
          0.001,
          0.88
         ]
        }
       ],
       "layout": {
        "title": {
         "text": "My IE Dataset Dataset Statistics"
        },
        "yaxis": {
         "title": {
          "text": "UE [kcal / mol]"
         }
        }
       }
      },
      "text/html": [
       "<div id=\"5f2b38b8-2dd9-4701-a20a-e6186fc94735\" style=\"height: 525px; width: 100%;\" class=\"plotly-graph-div\"></div><script type=\"text/javascript\">require([\"plotly\"], function(Plotly) { window.PLOTLYENV=window.PLOTLYENV || {};window.PLOTLYENV.BASE_URL=\"https://plot.ly\";\n",
       "if (document.getElementById(\"5f2b38b8-2dd9-4701-a20a-e6186fc94735\")) {\n",
       "    Plotly.newPlot(\"5f2b38b8-2dd9-4701-a20a-e6186fc94735\", [{\"box\": {\"visible\": true}, \"name\": \"B3LYP-D3/def2-svp-nan\", \"y\": [0.001, 0.826], \"type\": \"violin\", \"uid\": \"8c922021-70ad-411c-b465-855135b4a09c\"}, {\"box\": {\"visible\": true}, \"name\": \"PBE-D3/def2-svp-nan\", \"y\": [0.001, 0.88], \"type\": \"violin\", \"uid\": \"2294c9ee-6051-43aa-bf56-d03758fb7683\"}], {\"title\": {\"text\": \"My IE Dataset Dataset Statistics\"}, \"yaxis\": {\"title\": {\"text\": \"UE [kcal / mol]\"}}}, {\"showLink\": false, \"linkText\": \"Export to plot.ly\", \"plotlyServerURL\": \"https://plot.ly\"}); \n",
       "}\n",
       "});</script><script type=\"text/javascript\">window.addEventListener(\"resize\", function(){if (document.getElementById(\"5f2b38b8-2dd9-4701-a20a-e6186fc94735\")) {window._Plotly.Plots.resize(document.getElementById(\"5f2b38b8-2dd9-4701-a20a-e6186fc94735\"));};})</script>"
      ],
      "text/vnd.plotly.v1+html": [
       "<div id=\"5f2b38b8-2dd9-4701-a20a-e6186fc94735\" style=\"height: 525px; width: 100%;\" class=\"plotly-graph-div\"></div><script type=\"text/javascript\">require([\"plotly\"], function(Plotly) { window.PLOTLYENV=window.PLOTLYENV || {};window.PLOTLYENV.BASE_URL=\"https://plot.ly\";\n",
       "if (document.getElementById(\"5f2b38b8-2dd9-4701-a20a-e6186fc94735\")) {\n",
       "    Plotly.newPlot(\"5f2b38b8-2dd9-4701-a20a-e6186fc94735\", [{\"box\": {\"visible\": true}, \"name\": \"B3LYP-D3/def2-svp-nan\", \"y\": [0.001, 0.826], \"type\": \"violin\", \"uid\": \"8c922021-70ad-411c-b465-855135b4a09c\"}, {\"box\": {\"visible\": true}, \"name\": \"PBE-D3/def2-svp-nan\", \"y\": [0.001, 0.88], \"type\": \"violin\", \"uid\": \"2294c9ee-6051-43aa-bf56-d03758fb7683\"}], {\"title\": {\"text\": \"My IE Dataset Dataset Statistics\"}, \"yaxis\": {\"title\": {\"text\": \"UE [kcal / mol]\"}}}, {\"showLink\": false, \"linkText\": \"Export to plot.ly\", \"plotlyServerURL\": \"https://plot.ly\"}); \n",
       "}\n",
       "});</script><script type=\"text/javascript\">window.addEventListener(\"resize\", function(){if (document.getElementById(\"5f2b38b8-2dd9-4701-a20a-e6186fc94735\")) {window._Plotly.Plots.resize(document.getElementById(\"5f2b38b8-2dd9-4701-a20a-e6186fc94735\"));};})</script>"
      ]
     },
     "metadata": {},
     "output_type": "display_data"
    }
   ],
   "source": [
    "ds.visualize([\"B3LYP-D3\", \"PBE-D3\"], \"def2-SVP\", bench=\"B3LYP/def2-svp\", kind=\"violin\")"
   ]
  },
  {
   "cell_type": "markdown",
   "metadata": {},
   "source": [
    "This is only the very beginning of what you can do with QCFractal! Explore the documentation to learn more capabilities.\n",
    "\n",
    "If you like the project, consider starring us on [GitHub](https://github.com/MolSSI/QCFractal). If you have any questions, join our [Slack](https://join.slack.com/t/qcdb/shared_invite/enQtNDIzNTQ2OTExODk0LWM3OTgxN2ExYTlkMTlkZjA0OTExZDlmNGRlY2M4NWJlNDlkZGQyYWUxOTJmMzc3M2VlYzZjMjgxMDRkYzFmOTE) channel."
   ]
  }
 ],
 "metadata": {
  "kernelspec": {
   "display_name": "Python 3",
   "language": "python",
   "name": "python3"
  },
  "language_info": {
   "codemirror_mode": {
    "name": "ipython",
    "version": 3
   },
   "file_extension": ".py",
   "mimetype": "text/x-python",
   "name": "python",
   "nbconvert_exporter": "python",
   "pygments_lexer": "ipython3",
   "version": "3.7.2"
  }
 },
 "nbformat": 4,
 "nbformat_minor": 2
}
