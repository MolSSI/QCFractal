{
 "cells": [
  {
   "cell_type": "markdown",
   "metadata": {},
   "source": [
    "# Examples\n",
    "\n",
    "## Query Example\n",
    "\n",
    "This notebook will cover example usage of `Result` record. As a note we will be using the MolSSI QCArchive server as a data source. Any `id`s used in this example will not be valid for local servers."
   ]
  },
  {
   "cell_type": "code",
   "execution_count": 2,
   "metadata": {},
   "outputs": [
    {
     "data": {
      "text/html": [
       "\n",
       "<h3>FractalClient</h3>\n",
       "<ul>\n",
       "  <li><b>Server:   &nbsp; </b>The MolSSI QCArchive Server</li>\n",
       "  <li><b>Address:  &nbsp; </b>https://api.qcarchive.molssi.org:443/</li>\n",
       "  <li><b>Username: &nbsp; </b>None</li>\n",
       "</ul>\n"
      ],
      "text/plain": [
       "FractalClient(server_name='The MolSSI QCArchive Server', address='https://api.qcarchive.molssi.org:443/', username='None')"
      ]
     },
     "execution_count": 2,
     "metadata": {},
     "output_type": "execute_result"
    }
   ],
   "source": [
    "import qcfractal.interface as ptl\n",
    "client = ptl.FractalClient()\n",
    "client"
   ]
  },
  {
   "cell_type": "markdown",
   "metadata": {},
   "source": [
    "We can query results from the database based off a variety of values, but for this example we will query a known result from the database."
   ]
  },
  {
   "cell_type": "code",
   "execution_count": 20,
   "metadata": {},
   "outputs": [
    {
     "data": {
      "text/plain": [
       "<ResultRecord(id='1615129' status='COMPLETE')>"
      ]
     },
     "execution_count": 20,
     "metadata": {},
     "output_type": "execute_result"
    }
   ],
   "source": [
    "record = client.query_results(id=1615129)[0]\n",
    "record"
   ]
  },
  {
   "cell_type": "markdown",
   "metadata": {},
   "source": [
    "There are a variety of helped functions on this"
   ]
  },
  {
   "cell_type": "code",
   "execution_count": 21,
   "metadata": {},
   "outputs": [
    {
     "data": {
      "application/3dmoljs_load.v0": "<div id=\"3dmolviewer_15699386968194702\"  style=\"position: relative; width: 400px; height: 400px\">\n        <p id=\"3dmolwarning_15699386968194702\" style=\"background-color:#ffcccc;color:black\">You appear to be running in JupyterLab (or JavaScript failed to load for some other reason).  You need to install the 3dmol extension: <br>\n        <tt>jupyter labextension install jupyterlab_3dmol</tt></p>\n        </div>\n<script>\n\nvar loadScriptAsync = function(uri){\n  return new Promise((resolve, reject) => {\n    var tag = document.createElement('script');\n    tag.src = uri;\n    tag.async = true;\n    tag.onload = () => {\n      resolve();\n    };\n  var firstScriptTag = document.getElementsByTagName('script')[0];\n  firstScriptTag.parentNode.insertBefore(tag, firstScriptTag);\n});\n};\n\nif(typeof $3Dmolpromise === 'undefined') {\n$3Dmolpromise = null;\n  $3Dmolpromise = loadScriptAsync('https://3dmol.csb.pitt.edu/build/3Dmol.js');\n}\n\nvar viewer_15699386968194702 = null;\nvar warn = document.getElementById(\"3dmolwarning_15699386968194702\");\nif(warn) {\n    warn.parentNode.removeChild(warn);\n}\n$3Dmolpromise.then(function() {\nviewer_15699386968194702 = $3Dmol.createViewer($(\"#3dmolviewer_15699386968194702\"),{backgroundColor:\"white\"});\n\tviewer_15699386968194702.addModel(\"23\\nC8H11N3O\\nC                     6.166652560395     2.486273479900     0.991003032011\\nC                     4.994758109572     2.673325886721     1.738493147627\\nC                     6.230368507578     1.441166057510     0.079464694898\\nC                     3.943606081116     1.785460736636     1.523371165386\\nC                     5.108622281264     0.593184401114    -0.052976142231\\nC                     4.294367152295    -1.585517101995    -1.012427184144\\nC                     2.059881152914    -2.459610753846    -1.308588512741\\nC                     2.458723006157    -0.057557869648    -1.735019035738\\nN                     3.987351621217     0.763145786351     0.654378596634\\nN                     5.176940905990    -0.462779271673    -0.977358398722\\nN                     2.982962660070    -1.332643363540    -1.266926994207\\nO                     4.770195425973    -2.716530787633    -0.894646730669\\nH                     7.017490625414     3.151117476644     1.116222293582\\nH                     4.901083890003     3.477877080420     2.461016782987\\nH                     7.119114616009     1.273915631249    -0.523456593352\\nH                     3.012640119277     1.888569508524     2.079273047595\\nH                     2.497711264301    -3.305754593664    -0.781805252146\\nH                     1.851340986860    -2.758427816484    -2.344532220999\\nH                     1.117547575572    -2.175410401867    -0.828180734190\\nH                     1.844086030803    -0.232886736375    -2.626421862479\\nH                     3.271459073733     0.613561740180    -2.006425920095\\nH                     1.848595821870     0.424811537072    -0.965228995582\\nH                     6.121644615141    -0.811619577746    -1.101529735954\\n\",\"xyz\");\n\tviewer_15699386968194702.setStyle({\"stick\": {\"radius\": 0.2}, \"sphere\": {\"scale\": 0.3}});\n\tviewer_15699386968194702.zoomTo();\nviewer_15699386968194702.render();\n});\n</script>",
      "text/html": [
       "<div id=\"3dmolviewer_15699386968194702\"  style=\"position: relative; width: 400px; height: 400px\">\n",
       "        <p id=\"3dmolwarning_15699386968194702\" style=\"background-color:#ffcccc;color:black\">You appear to be running in JupyterLab (or JavaScript failed to load for some other reason).  You need to install the 3dmol extension: <br>\n",
       "        <tt>jupyter labextension install jupyterlab_3dmol</tt></p>\n",
       "        </div>\n",
       "<script>\n",
       "\n",
       "var loadScriptAsync = function(uri){\n",
       "  return new Promise((resolve, reject) => {\n",
       "    var tag = document.createElement('script');\n",
       "    tag.src = uri;\n",
       "    tag.async = true;\n",
       "    tag.onload = () => {\n",
       "      resolve();\n",
       "    };\n",
       "  var firstScriptTag = document.getElementsByTagName('script')[0];\n",
       "  firstScriptTag.parentNode.insertBefore(tag, firstScriptTag);\n",
       "});\n",
       "};\n",
       "\n",
       "if(typeof $3Dmolpromise === 'undefined') {\n",
       "$3Dmolpromise = null;\n",
       "  $3Dmolpromise = loadScriptAsync('https://3dmol.csb.pitt.edu/build/3Dmol.js');\n",
       "}\n",
       "\n",
       "var viewer_15699386968194702 = null;\n",
       "var warn = document.getElementById(\"3dmolwarning_15699386968194702\");\n",
       "if(warn) {\n",
       "    warn.parentNode.removeChild(warn);\n",
       "}\n",
       "$3Dmolpromise.then(function() {\n",
       "viewer_15699386968194702 = $3Dmol.createViewer($(\"#3dmolviewer_15699386968194702\"),{backgroundColor:\"white\"});\n",
       "\tviewer_15699386968194702.addModel(\"23\\nC8H11N3O\\nC                     6.166652560395     2.486273479900     0.991003032011\\nC                     4.994758109572     2.673325886721     1.738493147627\\nC                     6.230368507578     1.441166057510     0.079464694898\\nC                     3.943606081116     1.785460736636     1.523371165386\\nC                     5.108622281264     0.593184401114    -0.052976142231\\nC                     4.294367152295    -1.585517101995    -1.012427184144\\nC                     2.059881152914    -2.459610753846    -1.308588512741\\nC                     2.458723006157    -0.057557869648    -1.735019035738\\nN                     3.987351621217     0.763145786351     0.654378596634\\nN                     5.176940905990    -0.462779271673    -0.977358398722\\nN                     2.982962660070    -1.332643363540    -1.266926994207\\nO                     4.770195425973    -2.716530787633    -0.894646730669\\nH                     7.017490625414     3.151117476644     1.116222293582\\nH                     4.901083890003     3.477877080420     2.461016782987\\nH                     7.119114616009     1.273915631249    -0.523456593352\\nH                     3.012640119277     1.888569508524     2.079273047595\\nH                     2.497711264301    -3.305754593664    -0.781805252146\\nH                     1.851340986860    -2.758427816484    -2.344532220999\\nH                     1.117547575572    -2.175410401867    -0.828180734190\\nH                     1.844086030803    -0.232886736375    -2.626421862479\\nH                     3.271459073733     0.613561740180    -2.006425920095\\nH                     1.848595821870     0.424811537072    -0.965228995582\\nH                     6.121644615141    -0.811619577746    -1.101529735954\\n\",\"xyz\");\n",
       "\tviewer_15699386968194702.setStyle({\"stick\": {\"radius\": 0.2}, \"sphere\": {\"scale\": 0.3}});\n",
       "\tviewer_15699386968194702.zoomTo();\n",
       "viewer_15699386968194702.render();\n",
       "});\n",
       "</script>"
      ]
     },
     "metadata": {},
     "output_type": "display_data"
    },
    {
     "data": {
      "text/plain": [
       "<Molecule(name='C8H11N3O' formula='C8H11N3O' hash='f0e2dbc')>"
      ]
     },
     "execution_count": 21,
     "metadata": {},
     "output_type": "execute_result"
    }
   ],
   "source": [
    "record.get_molecule()"
   ]
  },
  {
   "cell_type": "code",
   "execution_count": 37,
   "metadata": {},
   "outputs": [
    {
     "name": "stdout",
     "output_type": "stream",
     "text": [
      "Program: psi4 Model: B3LYP-D3(BJ)/dzvp (gradient)\n"
     ]
    }
   ],
   "source": [
    "print(f\"Program: {record.program} Model: {record.method.upper()}/{record.basis} ({record.driver})\")"
   ]
  },
  {
   "cell_type": "markdown",
   "metadata": {},
   "source": [
    "Since the primary `driver` of this computation a `gradient` is in the `record.return_result` slot as a NumPy array. In addition, all parsed intermediates quantities can be found in the `record.properties` slot for intermediate data."
   ]
  },
  {
   "cell_type": "code",
   "execution_count": 38,
   "metadata": {},
   "outputs": [
    {
     "data": {
      "text/plain": [
       "array([[-1.0183802691625713e-05,  2.4983023230544212e-05,\n",
       "         4.2626711726293591e-05],\n",
       "       [ 4.8518698310640986e-05,  2.8649537718356986e-06,\n",
       "        -2.5993909127035813e-05],\n",
       "       [-1.4760360682320329e-05, -2.1228208508431367e-05,\n",
       "        -4.6180180609961721e-05]])"
      ]
     },
     "execution_count": 38,
     "metadata": {},
     "output_type": "execute_result"
    }
   ],
   "source": [
    "record.return_result[:3]"
   ]
  },
  {
   "cell_type": "code",
   "execution_count": 28,
   "metadata": {},
   "outputs": [
    {
     "data": {
      "text/plain": [
       "{'calcinfo_nbasis': 190,\n",
       " 'calcinfo_nmo': 190,\n",
       " 'calcinfo_nalpha': 44,\n",
       " 'calcinfo_nbeta': 44,\n",
       " 'calcinfo_natom': 23,\n",
       " 'nuclear_repulsion_energy': 693.2680312650867,\n",
       " 'return_energy': -551.0714449809266,\n",
       " 'scf_one_electron_energy': -2121.681087605063,\n",
       " 'scf_two_electron_energy': 939.395572266993,\n",
       " 'scf_xc_energy': -62.01215606794322,\n",
       " 'scf_dispersion_correction_energy': -0.04180484,\n",
       " 'scf_dipole_moment': [-0.43157518923938226,\n",
       "  3.5732964493427315,\n",
       "  -0.35820710190059735],\n",
       " 'scf_total_energy': -551.0714449809266,\n",
       " 'scf_iterations': 14}"
      ]
     },
     "execution_count": 28,
     "metadata": {},
     "output_type": "execute_result"
    }
   ],
   "source": [
    "record.properties.dict()"
   ]
  },
  {
   "cell_type": "markdown",
   "metadata": {},
   "source": [
    "Additional data such as the output of the quantum chemistry program can be queried as well:"
   ]
  },
  {
   "cell_type": "code",
   "execution_count": 34,
   "metadata": {},
   "outputs": [
    {
     "name": "stdout",
     "output_type": "stream",
     "text": [
      "\n",
      "  Memory set to  60.800 GiB by Python driver.\n",
      "gradient() will perform analytic gradient computation.\n",
      "\n",
      "*** tstart() called on ca167\n",
      "*** at Fri May 17 00:25:45 2019\n",
      "\n",
      "   => Loading Basis Set <=\n",
      "\n",
      "    Name: DZVP\n",
      "    Role: ORBITAL\n",
      "    Keyword: BASIS\n",
      "\n"
     ]
    }
   ],
   "source": [
    "print(record.get_stdout()[:245])"
   ]
  },
  {
   "cell_type": "markdown",
   "metadata": {},
   "source": [
    "## Compute Example\n",
    "\n",
    "Computation of a result can be accomplished by specifying all parameters to a quantum chemistry computation and a molecule. An example can be seen below using a FractalSnowflake instance."
   ]
  },
  {
   "cell_type": "code",
   "execution_count": 39,
   "metadata": {},
   "outputs": [
    {
     "data": {
      "text/html": [
       "\n",
       "<h3>FractalClient</h3>\n",
       "<ul>\n",
       "  <li><b>Server:   &nbsp; </b>db_0fa4f6ef_db7e_4f2e_9b7e_7c31cd9790d9</li>\n",
       "  <li><b>Address:  &nbsp; </b>https://localhost:55881/</li>\n",
       "  <li><b>Username: &nbsp; </b>None</li>\n",
       "</ul>\n"
      ],
      "text/plain": [
       "FractalClient(server_name='db_0fa4f6ef_db7e_4f2e_9b7e_7c31cd9790d9', address='https://localhost:55881/', username='None')"
      ]
     },
     "execution_count": 39,
     "metadata": {},
     "output_type": "execute_result"
    }
   ],
   "source": [
    "from qcfractal import FractalSnowflakeHandler\n",
    "snowflake = FractalSnowflakeHandler()\n",
    "client = snowflake.client()\n",
    "client"
   ]
  },
  {
   "cell_type": "code",
   "execution_count": 45,
   "metadata": {},
   "outputs": [
    {
     "name": "stdout",
     "output_type": "stream",
     "text": [
      "\tSearching PubChem database for methane (single best match returned)\n",
      "\tFound 1 result(s)\n"
     ]
    },
    {
     "data": {
      "application/3dmoljs_load.v0": "<div id=\"3dmolviewer_1569940816415191\"  style=\"position: relative; width: 400px; height: 400px\">\n        <p id=\"3dmolwarning_1569940816415191\" style=\"background-color:#ffcccc;color:black\">You appear to be running in JupyterLab (or JavaScript failed to load for some other reason).  You need to install the 3dmol extension: <br>\n        <tt>jupyter labextension install jupyterlab_3dmol</tt></p>\n        </div>\n<script>\n\nvar loadScriptAsync = function(uri){\n  return new Promise((resolve, reject) => {\n    var tag = document.createElement('script');\n    tag.src = uri;\n    tag.async = true;\n    tag.onload = () => {\n      resolve();\n    };\n  var firstScriptTag = document.getElementsByTagName('script')[0];\n  firstScriptTag.parentNode.insertBefore(tag, firstScriptTag);\n});\n};\n\nif(typeof $3Dmolpromise === 'undefined') {\n$3Dmolpromise = null;\n  $3Dmolpromise = loadScriptAsync('https://3dmol.csb.pitt.edu/build/3Dmol.js');\n}\n\nvar viewer_1569940816415191 = null;\nvar warn = document.getElementById(\"3dmolwarning_1569940816415191\");\nif(warn) {\n    warn.parentNode.removeChild(warn);\n}\n$3Dmolpromise.then(function() {\nviewer_1569940816415191 = $3Dmol.createViewer($(\"#3dmolviewer_1569940816415191\"),{backgroundColor:\"white\"});\n\tviewer_1569940816415191.addModel(\"5\\nIUPAC methane\\nC                     0.000000000000     0.000000000000     0.000000000000\\nH                     0.554100002055     0.799600000044     0.496499999317\\nH                     0.683299999193    -0.813399999763    -0.253600002426\\nH                    -0.778199999560    -0.373500001133     0.669199998330\\nH                    -0.459300000305     0.387399999470    -0.912100000513\\n\",\"xyz\");\n\tviewer_1569940816415191.setStyle({\"stick\": {\"radius\": 0.2}, \"sphere\": {\"scale\": 0.3}});\n\tviewer_1569940816415191.zoomTo();\nviewer_1569940816415191.render();\n});\n</script>",
      "text/html": [
       "<div id=\"3dmolviewer_1569940816415191\"  style=\"position: relative; width: 400px; height: 400px\">\n",
       "        <p id=\"3dmolwarning_1569940816415191\" style=\"background-color:#ffcccc;color:black\">You appear to be running in JupyterLab (or JavaScript failed to load for some other reason).  You need to install the 3dmol extension: <br>\n",
       "        <tt>jupyter labextension install jupyterlab_3dmol</tt></p>\n",
       "        </div>\n",
       "<script>\n",
       "\n",
       "var loadScriptAsync = function(uri){\n",
       "  return new Promise((resolve, reject) => {\n",
       "    var tag = document.createElement('script');\n",
       "    tag.src = uri;\n",
       "    tag.async = true;\n",
       "    tag.onload = () => {\n",
       "      resolve();\n",
       "    };\n",
       "  var firstScriptTag = document.getElementsByTagName('script')[0];\n",
       "  firstScriptTag.parentNode.insertBefore(tag, firstScriptTag);\n",
       "});\n",
       "};\n",
       "\n",
       "if(typeof $3Dmolpromise === 'undefined') {\n",
       "$3Dmolpromise = null;\n",
       "  $3Dmolpromise = loadScriptAsync('https://3dmol.csb.pitt.edu/build/3Dmol.js');\n",
       "}\n",
       "\n",
       "var viewer_1569940816415191 = null;\n",
       "var warn = document.getElementById(\"3dmolwarning_1569940816415191\");\n",
       "if(warn) {\n",
       "    warn.parentNode.removeChild(warn);\n",
       "}\n",
       "$3Dmolpromise.then(function() {\n",
       "viewer_1569940816415191 = $3Dmol.createViewer($(\"#3dmolviewer_1569940816415191\"),{backgroundColor:\"white\"});\n",
       "\tviewer_1569940816415191.addModel(\"5\\nIUPAC methane\\nC                     0.000000000000     0.000000000000     0.000000000000\\nH                     0.554100002055     0.799600000044     0.496499999317\\nH                     0.683299999193    -0.813399999763    -0.253600002426\\nH                    -0.778199999560    -0.373500001133     0.669199998330\\nH                    -0.459300000305     0.387399999470    -0.912100000513\\n\",\"xyz\");\n",
       "\tviewer_1569940816415191.setStyle({\"stick\": {\"radius\": 0.2}, \"sphere\": {\"scale\": 0.3}});\n",
       "\tviewer_1569940816415191.zoomTo();\n",
       "viewer_1569940816415191.render();\n",
       "});\n",
       "</script>"
      ]
     },
     "metadata": {},
     "output_type": "display_data"
    },
    {
     "data": {
      "text/plain": [
       "<Molecule(name='IUPAC methane' formula='CH4' hash='b4057dd')>"
      ]
     },
     "execution_count": 45,
     "metadata": {},
     "output_type": "execute_result"
    }
   ],
   "source": [
    "methane = ptl.Molecule.from_data(\"pubchem:methane\")\n",
    "methane"
   ]
  },
  {
   "cell_type": "markdown",
   "metadata": {},
   "source": [
    "To run a quantum chemistry computation on this methane molecule we need to specify the full input as shown below. It should be noted that this function is also organized in such a way where the computation of many molecules with the same level of theory is most efficient."
   ]
  },
  {
   "cell_type": "code",
   "execution_count": 54,
   "metadata": {},
   "outputs": [
    {
     "data": {
      "text/plain": [
       "<ComputeResponse(nsubmitted=0 nexisting=1)>"
      ]
     },
     "execution_count": 54,
     "metadata": {},
     "output_type": "execute_result"
    }
   ],
   "source": [
    "#                          program, method, basis,   driver,  keywords, molecule\n",
    "compute = client.add_compute('psi4', 'hf', 'sto-3g', 'energy', None, [methane])\n",
    "compute"
   ]
  },
  {
   "cell_type": "markdown",
   "metadata": {},
   "source": [
    "The `id`s of the submitted compute can then be queried and examined. As a note the computation is not instantaneous, you may need to wait a moment and requery for this small molecule."
   ]
  },
  {
   "cell_type": "code",
   "execution_count": 52,
   "metadata": {},
   "outputs": [
    {
     "data": {
      "text/plain": [
       "<ResultRecord(id='1' status='COMPLETE')>"
      ]
     },
     "execution_count": 52,
     "metadata": {},
     "output_type": "execute_result"
    }
   ],
   "source": [
    "result = client.query_results(id=compute.ids)[0]\n",
    "result"
   ]
  },
  {
   "cell_type": "code",
   "execution_count": 51,
   "metadata": {},
   "outputs": [
    {
     "data": {
      "text/plain": [
       "-39.726728729639106"
      ]
     },
     "execution_count": 51,
     "metadata": {},
     "output_type": "execute_result"
    }
   ],
   "source": [
    "result.return_result"
   ]
  }
 ],
 "metadata": {
  "kernelspec": {
   "display_name": "Python 3",
   "language": "python",
   "name": "python3"
  },
  "language_info": {
   "codemirror_mode": {
    "name": "ipython",
    "version": 3
   },
   "file_extension": ".py",
   "mimetype": "text/x-python",
   "name": "python",
   "nbconvert_exporter": "python",
   "pygments_lexer": "ipython3",
   "version": "3.7.3"
  }
 },
 "nbformat": 4,
 "nbformat_minor": 2
}
